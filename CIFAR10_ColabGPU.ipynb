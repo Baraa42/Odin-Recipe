{
  "nbformat": 4,
  "nbformat_minor": 0,
  "metadata": {
    "colab": {
      "name": "CIFAR10-ColabGPU.ipynb",
      "provenance": [],
      "collapsed_sections": [],
      "authorship_tag": "ABX9TyModfr69OtAuq31A1CNFnK0",
      "include_colab_link": true
    },
    "kernelspec": {
      "name": "python3",
      "display_name": "Python 3"
    },
    "language_info": {
      "name": "python"
    },
    "widgets": {
      "application/vnd.jupyter.widget-state+json": {
        "712049eaa75649d19f6d15ed20c97144": {
          "model_module": "@jupyter-widgets/controls",
          "model_name": "HBoxModel",
          "model_module_version": "1.5.0",
          "state": {
            "_view_name": "HBoxView",
            "_dom_classes": [],
            "_model_name": "HBoxModel",
            "_view_module": "@jupyter-widgets/controls",
            "_model_module_version": "1.5.0",
            "_view_count": null,
            "_view_module_version": "1.5.0",
            "box_style": "",
            "layout": "IPY_MODEL_cecdffec02bf41c6a34397b4bb772b5f",
            "_model_module": "@jupyter-widgets/controls",
            "children": [
              "IPY_MODEL_4d12510fd3d84192a25b58b38056e3dd",
              "IPY_MODEL_14a4cd4c144f4616b28142329c42604d",
              "IPY_MODEL_4f99ddee67ce49ee958245918279a7e6"
            ]
          }
        },
        "cecdffec02bf41c6a34397b4bb772b5f": {
          "model_module": "@jupyter-widgets/base",
          "model_name": "LayoutModel",
          "model_module_version": "1.2.0",
          "state": {
            "_view_name": "LayoutView",
            "grid_template_rows": null,
            "right": null,
            "justify_content": null,
            "_view_module": "@jupyter-widgets/base",
            "overflow": null,
            "_model_module_version": "1.2.0",
            "_view_count": null,
            "flex_flow": null,
            "width": null,
            "min_width": null,
            "border": null,
            "align_items": null,
            "bottom": null,
            "_model_module": "@jupyter-widgets/base",
            "top": null,
            "grid_column": null,
            "overflow_y": null,
            "overflow_x": null,
            "grid_auto_flow": null,
            "grid_area": null,
            "grid_template_columns": null,
            "flex": null,
            "_model_name": "LayoutModel",
            "justify_items": null,
            "grid_row": null,
            "max_height": null,
            "align_content": null,
            "visibility": null,
            "align_self": null,
            "height": null,
            "min_height": null,
            "padding": null,
            "grid_auto_rows": null,
            "grid_gap": null,
            "max_width": null,
            "order": null,
            "_view_module_version": "1.2.0",
            "grid_template_areas": null,
            "object_position": null,
            "object_fit": null,
            "grid_auto_columns": null,
            "margin": null,
            "display": null,
            "left": null
          }
        },
        "4d12510fd3d84192a25b58b38056e3dd": {
          "model_module": "@jupyter-widgets/controls",
          "model_name": "HTMLModel",
          "model_module_version": "1.5.0",
          "state": {
            "_view_name": "HTMLView",
            "style": "IPY_MODEL_4ae154f4a7014d1f92531f62fd087eda",
            "_dom_classes": [],
            "description": "",
            "_model_name": "HTMLModel",
            "placeholder": "​",
            "_view_module": "@jupyter-widgets/controls",
            "_model_module_version": "1.5.0",
            "value": "",
            "_view_count": null,
            "_view_module_version": "1.5.0",
            "description_tooltip": null,
            "_model_module": "@jupyter-widgets/controls",
            "layout": "IPY_MODEL_aa69e0542d3e475c8f9f9ed8fd63c704"
          }
        },
        "14a4cd4c144f4616b28142329c42604d": {
          "model_module": "@jupyter-widgets/controls",
          "model_name": "FloatProgressModel",
          "model_module_version": "1.5.0",
          "state": {
            "_view_name": "ProgressView",
            "style": "IPY_MODEL_12aaac7698ca4cce9e073720b731ae83",
            "_dom_classes": [],
            "description": "",
            "_model_name": "FloatProgressModel",
            "bar_style": "success",
            "max": 170498071,
            "_view_module": "@jupyter-widgets/controls",
            "_model_module_version": "1.5.0",
            "value": 170498071,
            "_view_count": null,
            "_view_module_version": "1.5.0",
            "orientation": "horizontal",
            "min": 0,
            "description_tooltip": null,
            "_model_module": "@jupyter-widgets/controls",
            "layout": "IPY_MODEL_b9423e2474f74baea3ba925e6c11aae3"
          }
        },
        "4f99ddee67ce49ee958245918279a7e6": {
          "model_module": "@jupyter-widgets/controls",
          "model_name": "HTMLModel",
          "model_module_version": "1.5.0",
          "state": {
            "_view_name": "HTMLView",
            "style": "IPY_MODEL_958b798be15848f0b1d1f42d8583d501",
            "_dom_classes": [],
            "description": "",
            "_model_name": "HTMLModel",
            "placeholder": "​",
            "_view_module": "@jupyter-widgets/controls",
            "_model_module_version": "1.5.0",
            "value": " 170499072/? [00:06&lt;00:00, 32247408.26it/s]",
            "_view_count": null,
            "_view_module_version": "1.5.0",
            "description_tooltip": null,
            "_model_module": "@jupyter-widgets/controls",
            "layout": "IPY_MODEL_4798a076f6d349aca2d64765a41a61ca"
          }
        },
        "4ae154f4a7014d1f92531f62fd087eda": {
          "model_module": "@jupyter-widgets/controls",
          "model_name": "DescriptionStyleModel",
          "model_module_version": "1.5.0",
          "state": {
            "_view_name": "StyleView",
            "_model_name": "DescriptionStyleModel",
            "description_width": "",
            "_view_module": "@jupyter-widgets/base",
            "_model_module_version": "1.5.0",
            "_view_count": null,
            "_view_module_version": "1.2.0",
            "_model_module": "@jupyter-widgets/controls"
          }
        },
        "aa69e0542d3e475c8f9f9ed8fd63c704": {
          "model_module": "@jupyter-widgets/base",
          "model_name": "LayoutModel",
          "model_module_version": "1.2.0",
          "state": {
            "_view_name": "LayoutView",
            "grid_template_rows": null,
            "right": null,
            "justify_content": null,
            "_view_module": "@jupyter-widgets/base",
            "overflow": null,
            "_model_module_version": "1.2.0",
            "_view_count": null,
            "flex_flow": null,
            "width": null,
            "min_width": null,
            "border": null,
            "align_items": null,
            "bottom": null,
            "_model_module": "@jupyter-widgets/base",
            "top": null,
            "grid_column": null,
            "overflow_y": null,
            "overflow_x": null,
            "grid_auto_flow": null,
            "grid_area": null,
            "grid_template_columns": null,
            "flex": null,
            "_model_name": "LayoutModel",
            "justify_items": null,
            "grid_row": null,
            "max_height": null,
            "align_content": null,
            "visibility": null,
            "align_self": null,
            "height": null,
            "min_height": null,
            "padding": null,
            "grid_auto_rows": null,
            "grid_gap": null,
            "max_width": null,
            "order": null,
            "_view_module_version": "1.2.0",
            "grid_template_areas": null,
            "object_position": null,
            "object_fit": null,
            "grid_auto_columns": null,
            "margin": null,
            "display": null,
            "left": null
          }
        },
        "12aaac7698ca4cce9e073720b731ae83": {
          "model_module": "@jupyter-widgets/controls",
          "model_name": "ProgressStyleModel",
          "model_module_version": "1.5.0",
          "state": {
            "_view_name": "StyleView",
            "_model_name": "ProgressStyleModel",
            "description_width": "",
            "_view_module": "@jupyter-widgets/base",
            "_model_module_version": "1.5.0",
            "_view_count": null,
            "_view_module_version": "1.2.0",
            "bar_color": null,
            "_model_module": "@jupyter-widgets/controls"
          }
        },
        "b9423e2474f74baea3ba925e6c11aae3": {
          "model_module": "@jupyter-widgets/base",
          "model_name": "LayoutModel",
          "model_module_version": "1.2.0",
          "state": {
            "_view_name": "LayoutView",
            "grid_template_rows": null,
            "right": null,
            "justify_content": null,
            "_view_module": "@jupyter-widgets/base",
            "overflow": null,
            "_model_module_version": "1.2.0",
            "_view_count": null,
            "flex_flow": null,
            "width": null,
            "min_width": null,
            "border": null,
            "align_items": null,
            "bottom": null,
            "_model_module": "@jupyter-widgets/base",
            "top": null,
            "grid_column": null,
            "overflow_y": null,
            "overflow_x": null,
            "grid_auto_flow": null,
            "grid_area": null,
            "grid_template_columns": null,
            "flex": null,
            "_model_name": "LayoutModel",
            "justify_items": null,
            "grid_row": null,
            "max_height": null,
            "align_content": null,
            "visibility": null,
            "align_self": null,
            "height": null,
            "min_height": null,
            "padding": null,
            "grid_auto_rows": null,
            "grid_gap": null,
            "max_width": null,
            "order": null,
            "_view_module_version": "1.2.0",
            "grid_template_areas": null,
            "object_position": null,
            "object_fit": null,
            "grid_auto_columns": null,
            "margin": null,
            "display": null,
            "left": null
          }
        },
        "958b798be15848f0b1d1f42d8583d501": {
          "model_module": "@jupyter-widgets/controls",
          "model_name": "DescriptionStyleModel",
          "model_module_version": "1.5.0",
          "state": {
            "_view_name": "StyleView",
            "_model_name": "DescriptionStyleModel",
            "description_width": "",
            "_view_module": "@jupyter-widgets/base",
            "_model_module_version": "1.5.0",
            "_view_count": null,
            "_view_module_version": "1.2.0",
            "_model_module": "@jupyter-widgets/controls"
          }
        },
        "4798a076f6d349aca2d64765a41a61ca": {
          "model_module": "@jupyter-widgets/base",
          "model_name": "LayoutModel",
          "model_module_version": "1.2.0",
          "state": {
            "_view_name": "LayoutView",
            "grid_template_rows": null,
            "right": null,
            "justify_content": null,
            "_view_module": "@jupyter-widgets/base",
            "overflow": null,
            "_model_module_version": "1.2.0",
            "_view_count": null,
            "flex_flow": null,
            "width": null,
            "min_width": null,
            "border": null,
            "align_items": null,
            "bottom": null,
            "_model_module": "@jupyter-widgets/base",
            "top": null,
            "grid_column": null,
            "overflow_y": null,
            "overflow_x": null,
            "grid_auto_flow": null,
            "grid_area": null,
            "grid_template_columns": null,
            "flex": null,
            "_model_name": "LayoutModel",
            "justify_items": null,
            "grid_row": null,
            "max_height": null,
            "align_content": null,
            "visibility": null,
            "align_self": null,
            "height": null,
            "min_height": null,
            "padding": null,
            "grid_auto_rows": null,
            "grid_gap": null,
            "max_width": null,
            "order": null,
            "_view_module_version": "1.2.0",
            "grid_template_areas": null,
            "object_position": null,
            "object_fit": null,
            "grid_auto_columns": null,
            "margin": null,
            "display": null,
            "left": null
          }
        }
      }
    },
    "accelerator": "GPU"
  },
  "cells": [
    {
      "cell_type": "markdown",
      "metadata": {
        "id": "view-in-github",
        "colab_type": "text"
      },
      "source": [
        "<a href=\"https://colab.research.google.com/github/Baraa42/Odin-Recipe/blob/master/CIFAR10_ColabGPU.ipynb\" target=\"_parent\"><img src=\"https://colab.research.google.com/assets/colab-badge.svg\" alt=\"Open In Colab\"/></a>"
      ]
    },
    {
      "cell_type": "code",
      "execution_count": 1,
      "metadata": {
        "id": "TbRbiYMs8w6I"
      },
      "outputs": [],
      "source": [
        "# Import required libraries\n",
        "import numpy as np\n",
        "import pandas as pd\n",
        "import torch\n",
        "import torchvision.transforms as transforms\n",
        "import torchvision.datasets as datasets\n",
        "import torchvision.models as models\n",
        "import torch.nn as nn\n",
        "import torch.nn.functional as F\n",
        "import torch.optim as optim\n",
        "from PIL import Image\n",
        "import matplotlib.pyplot as plt\n",
        "import glob,os\n",
        "import matplotlib.image as mpimg\n",
        "import torchvision\n",
        "from torchvision.datasets import ImageFolder, CIFAR10\n"
      ]
    },
    {
      "cell_type": "code",
      "source": [
        "#Check if GPU is available \n",
        "if torch.cuda.is_available():\n",
        "    device = torch.device('cuda:0')\n",
        "else:\n",
        "    device = torch.device('cpu')\n",
        "print(\"Device:\",device)"
      ],
      "metadata": {
        "colab": {
          "base_uri": "https://localhost:8080/"
        },
        "id": "1a52Hylb89Vf",
        "outputId": "7c9da229-8a0b-4bc1-c3b5-8883a3693a5d"
      },
      "execution_count": 2,
      "outputs": [
        {
          "output_type": "stream",
          "name": "stdout",
          "text": [
            "Device: cuda:0\n"
          ]
        }
      ]
    },
    {
      "cell_type": "markdown",
      "source": [
        "# **Getting Data**"
      ],
      "metadata": {
        "id": "eICiS5ZR91UW"
      }
    },
    {
      "cell_type": "code",
      "source": [
        "train_dataset = CIFAR10(\n",
        "    root='.',\n",
        "    train=True,\n",
        "    transform=transforms.ToTensor(),\n",
        "    download=True)\n",
        "\n",
        "test_dataset = CIFAR10(\n",
        "    root='.',\n",
        "    train=False,\n",
        "    transform=transforms.ToTensor(),\n",
        "    download=True)\n",
        "\n"
      ],
      "metadata": {
        "colab": {
          "base_uri": "https://localhost:8080/",
          "height": 101,
          "referenced_widgets": [
            "712049eaa75649d19f6d15ed20c97144",
            "cecdffec02bf41c6a34397b4bb772b5f",
            "4d12510fd3d84192a25b58b38056e3dd",
            "14a4cd4c144f4616b28142329c42604d",
            "4f99ddee67ce49ee958245918279a7e6",
            "4ae154f4a7014d1f92531f62fd087eda",
            "aa69e0542d3e475c8f9f9ed8fd63c704",
            "12aaac7698ca4cce9e073720b731ae83",
            "b9423e2474f74baea3ba925e6c11aae3",
            "958b798be15848f0b1d1f42d8583d501",
            "4798a076f6d349aca2d64765a41a61ca"
          ]
        },
        "id": "vJfhdEYs899X",
        "outputId": "a147907f-fbfe-41e7-b162-bed8979a0f18"
      },
      "execution_count": 3,
      "outputs": [
        {
          "output_type": "stream",
          "name": "stdout",
          "text": [
            "Downloading https://www.cs.toronto.edu/~kriz/cifar-10-python.tar.gz to ./cifar-10-python.tar.gz\n"
          ]
        },
        {
          "output_type": "display_data",
          "data": {
            "application/vnd.jupyter.widget-view+json": {
              "model_id": "712049eaa75649d19f6d15ed20c97144",
              "version_minor": 0,
              "version_major": 2
            },
            "text/plain": [
              "  0%|          | 0/170498071 [00:00<?, ?it/s]"
            ]
          },
          "metadata": {}
        },
        {
          "output_type": "stream",
          "name": "stdout",
          "text": [
            "Extracting ./cifar-10-python.tar.gz to .\n",
            "Files already downloaded and verified\n"
          ]
        }
      ]
    },
    {
      "cell_type": "code",
      "source": [
        "classes = train_dataset.classes\n",
        "print(classes)"
      ],
      "metadata": {
        "colab": {
          "base_uri": "https://localhost:8080/"
        },
        "id": "9k_7qrhQ9_xe",
        "outputId": "5658ce20-3a8f-4503-c538-6733e0717d67"
      },
      "execution_count": 4,
      "outputs": [
        {
          "output_type": "stream",
          "name": "stdout",
          "text": [
            "['airplane', 'automobile', 'bird', 'cat', 'deer', 'dog', 'frog', 'horse', 'ship', 'truck']\n"
          ]
        }
      ]
    },
    {
      "cell_type": "markdown",
      "source": [
        "# **Preparing Data and Functions**"
      ],
      "metadata": {
        "id": "Br6PibuZg09G"
      }
    },
    {
      "cell_type": "code",
      "source": [
        "from torch.utils.data import DataLoader\n",
        "batch_size = 128\n",
        "train_loader = DataLoader(dataset=train_dataset,\n",
        "                          batch_size=batch_size,\n",
        "                          shuffle=True)\n",
        "test_loader = DataLoader(dataset=test_dataset,\n",
        "                          batch_size=batch_size,\n",
        "                          shuffle=False)"
      ],
      "metadata": {
        "id": "g_VJnqJXg8Lr"
      },
      "execution_count": 15,
      "outputs": []
    },
    {
      "cell_type": "markdown",
      "source": [
        "**Run CNN function**"
      ],
      "metadata": {
        "id": "S_2iwBf7-IT4"
      }
    },
    {
      "cell_type": "code",
      "source": [
        "def run_CNN(model, criterion, optimizer, train_loader, test_loader, epochs=10):\n",
        "    '''\n",
        "    Runs the model and returns the list of train/test losses/accuracies\n",
        "    '''\n",
        "    # Losses\n",
        "    train_losses = np.zeros(epochs)\n",
        "    test_losses = np.zeros(epochs)\n",
        "    train_accuracy = np.zeros(epochs)\n",
        "    test_accuracy = np.zeros(epochs)\n",
        "    \n",
        "    for i in range(epochs):\n",
        "        train_loss =[]\n",
        "        correct = 0 \n",
        "        total = 0\n",
        "        for inputs, targets in train_loader :\n",
        "\n",
        "            inputs, targets = inputs.to(device), targets.to(device)\n",
        "            # Resetting gradient\n",
        "            optimizer.zero_grad()\n",
        "            # Getting output and Loss\n",
        "            outputs = model(inputs)\n",
        "            loss = criterion(outputs, targets)\n",
        "            # Back prop\n",
        "            loss.backward()\n",
        "            optimizer.step()\n",
        "            # Train loss after one minibatch\n",
        "            train_loss.append(loss.item())\n",
        "            # Getting prediction\n",
        "            _, predictions = torch.max(outputs, 1)\n",
        "            # Getting number correct prediction\n",
        "            correct += (predictions==targets).sum().item()\n",
        "            total += targets.shape[0]\n",
        "        # Train loss after epoch and accuracy\n",
        "        train_loss = np.mean(train_loss)\n",
        "        train_losses[i] = train_loss\n",
        "        train_accuracy[i]= correct/total\n",
        "        \n",
        "        test_loss =[]\n",
        "        correct = 0 \n",
        "        total = 0\n",
        "        for inputs, targets in test_loader:\n",
        "\n",
        "            inputs, targets = inputs.to(device), targets.to(device)\n",
        "            #Getting output and Loss\n",
        "            outputs = model(inputs)\n",
        "            loss = criterion(outputs, targets)\n",
        "            # Test loss after one minibatch\n",
        "            test_loss.append(loss.item())\n",
        "            # Getting prediction\n",
        "            _, predictions = torch.max(outputs, 1)\n",
        "            # Getting number correct prediction\n",
        "            correct += (predictions==targets).sum().item()\n",
        "            total += targets.shape[0]\n",
        "        # Test loss after epoch  and accuracy \n",
        "        test_loss = np.mean(test_loss)\n",
        "        test_losses[i] = test_loss \n",
        "        test_accuracy[i]= correct/total\n",
        "         \n",
        "        print(f'Epochs {i+1}/{epochs}, Train Loss: {train_loss:.3f}, Test Loss : {test_loss:.3f}, Train Accuracy: {train_accuracy[i]:.3f}, Test Accuracy : {test_accuracy[i]:.3f}')\n",
        "        \n",
        "    return train_losses, test_losses, train_accuracy, test_accuracy"
      ],
      "metadata": {
        "id": "6jBhjMJY_AhP"
      },
      "execution_count": 16,
      "outputs": []
    },
    {
      "cell_type": "markdown",
      "source": [
        "# **Building Improved CNN**"
      ],
      "metadata": {
        "id": "JvrlwL42-Ube"
      }
    },
    {
      "cell_type": "code",
      "source": [
        "K = 10\n",
        "class CNN(nn.Module):\n",
        "    def __init__(self, K):\n",
        "        super(CNN, self).__init__()\n",
        "        \n",
        "        # conv layers\n",
        "        self.conv1 = nn.Conv2d(3, 32, kernel_size=3, padding=(1,1))\n",
        "        self.conv2 = nn.Conv2d(32, 32, kernel_size=3, padding=(1,1))\n",
        "    \n",
        "        self.conv3 = nn.Conv2d(32, 64, kernel_size=3, padding=(1,1))\n",
        "        self.conv4 = nn.Conv2d(64, 64, kernel_size=3, padding=(1,1))\n",
        "        \n",
        "        self.conv5 = nn.Conv2d(64, 128, kernel_size=3, padding=(1,1))\n",
        "        self.conv6 = nn.Conv2d(128, 128, kernel_size=3, padding=(1,1))\n",
        "        \n",
        "        # liner layers\n",
        "        self.fc1 = nn.Linear(128*4*4, 1024)\n",
        "        self.fc2 = nn.Linear(1024, K)\n",
        "        \n",
        "        \n",
        "    def forward(self, X):\n",
        "        m = nn.MaxPool2d(2)\n",
        "        out = F.relu(self.conv1(X))\n",
        "        out = F.relu(self.conv2(out))\n",
        "        out = m(out)\n",
        "        out = F.relu(self.conv3(out))\n",
        "        out = F.relu(self.conv4(out))\n",
        "        out = m(out)\n",
        "        out = F.relu(self.conv5(out))\n",
        "        out = F.relu(self.conv6(out))\n",
        "        out = m(out)\n",
        "        out = out.view(-1, 128*4*4)\n",
        "        out = F.dropout(out, p=0.2)\n",
        "        out = F.relu(self.fc1(out))\n",
        "        out = F.dropout(out, p=0.2)\n",
        "        out = F.relu(self.fc2(out))\n",
        "        return out"
      ],
      "metadata": {
        "id": "UkjOREoutDn1"
      },
      "execution_count": 28,
      "outputs": []
    },
    {
      "cell_type": "code",
      "source": [
        "model = CNN(K).to(device)\n",
        "criterion = nn.CrossEntropyLoss()\n",
        "optimizer = torch.optim.SGD(model.parameters(), lr=0.01, momentum=0.9)"
      ],
      "metadata": {
        "id": "qXPGDajhFTut"
      },
      "execution_count": 30,
      "outputs": []
    },
    {
      "cell_type": "code",
      "source": [
        "train_losses, test_losses, train_accuracy, test_accuracy = run_CNN(model, criterion, optimizer, train_loader, test_loader, epochs=15)"
      ],
      "metadata": {
        "colab": {
          "base_uri": "https://localhost:8080/"
        },
        "id": "J0WpvV3C-exz",
        "outputId": "1830b0cf-475c-4dbf-aafb-735b6bc5365f"
      },
      "execution_count": 31,
      "outputs": [
        {
          "output_type": "stream",
          "name": "stdout",
          "text": [
            "Epochs 1/15, Train Loss: 2.303, Test Loss : 2.302, Train Accuracy: 0.099, Test Accuracy : 0.107\n",
            "Epochs 2/15, Train Loss: 2.300, Test Loss : 2.277, Train Accuracy: 0.124, Test Accuracy : 0.144\n",
            "Epochs 3/15, Train Loss: 2.062, Test Loss : 1.869, Train Accuracy: 0.245, Test Accuracy : 0.316\n",
            "Epochs 4/15, Train Loss: 1.751, Test Loss : 1.580, Train Accuracy: 0.361, Test Accuracy : 0.431\n",
            "Epochs 5/15, Train Loss: 1.500, Test Loss : 1.434, Train Accuracy: 0.455, Test Accuracy : 0.487\n",
            "Epochs 6/15, Train Loss: 1.355, Test Loss : 1.277, Train Accuracy: 0.514, Test Accuracy : 0.543\n",
            "Epochs 7/15, Train Loss: 1.224, Test Loss : 1.187, Train Accuracy: 0.561, Test Accuracy : 0.576\n",
            "Epochs 8/15, Train Loss: 1.095, Test Loss : 1.108, Train Accuracy: 0.612, Test Accuracy : 0.600\n",
            "Epochs 9/15, Train Loss: 0.976, Test Loss : 0.991, Train Accuracy: 0.656, Test Accuracy : 0.645\n",
            "Epochs 10/15, Train Loss: 0.874, Test Loss : 0.961, Train Accuracy: 0.695, Test Accuracy : 0.663\n",
            "Epochs 11/15, Train Loss: 0.780, Test Loss : 0.910, Train Accuracy: 0.727, Test Accuracy : 0.684\n",
            "Epochs 12/15, Train Loss: 0.691, Test Loss : 0.921, Train Accuracy: 0.758, Test Accuracy : 0.690\n",
            "Epochs 13/15, Train Loss: 0.610, Test Loss : 0.925, Train Accuracy: 0.787, Test Accuracy : 0.693\n",
            "Epochs 14/15, Train Loss: 0.529, Test Loss : 0.926, Train Accuracy: 0.813, Test Accuracy : 0.705\n",
            "Epochs 15/15, Train Loss: 0.466, Test Loss : 0.928, Train Accuracy: 0.836, Test Accuracy : 0.707\n"
          ]
        }
      ]
    },
    {
      "cell_type": "code",
      "source": [
        "train_losses, test_losses, train_accuracy, test_accuracy = run_CNN(model, criterion, optimizer, train_loader, test_loader, epochs=10)"
      ],
      "metadata": {
        "colab": {
          "base_uri": "https://localhost:8080/"
        },
        "id": "oxlt7JFA-kjh",
        "outputId": "1c2071c1-6e16-4219-b1b6-e1b20453a8c9"
      },
      "execution_count": 32,
      "outputs": [
        {
          "output_type": "stream",
          "name": "stdout",
          "text": [
            "Epochs 1/10, Train Loss: 0.399, Test Loss : 0.982, Train Accuracy: 0.860, Test Accuracy : 0.698\n",
            "Epochs 2/10, Train Loss: 0.343, Test Loss : 0.974, Train Accuracy: 0.879, Test Accuracy : 0.707\n",
            "Epochs 3/10, Train Loss: 0.294, Test Loss : 1.080, Train Accuracy: 0.896, Test Accuracy : 0.705\n",
            "Epochs 4/10, Train Loss: 0.259, Test Loss : 1.123, Train Accuracy: 0.909, Test Accuracy : 0.711\n",
            "Epochs 5/10, Train Loss: 0.232, Test Loss : 1.143, Train Accuracy: 0.919, Test Accuracy : 0.707\n",
            "Epochs 6/10, Train Loss: 0.204, Test Loss : 1.177, Train Accuracy: 0.928, Test Accuracy : 0.711\n",
            "Epochs 7/10, Train Loss: 0.186, Test Loss : 1.196, Train Accuracy: 0.935, Test Accuracy : 0.711\n",
            "Epochs 8/10, Train Loss: 0.161, Test Loss : 1.295, Train Accuracy: 0.945, Test Accuracy : 0.709\n",
            "Epochs 9/10, Train Loss: 0.142, Test Loss : 1.394, Train Accuracy: 0.951, Test Accuracy : 0.707\n",
            "Epochs 10/10, Train Loss: 0.150, Test Loss : 1.288, Train Accuracy: 0.949, Test Accuracy : 0.725\n"
          ]
        }
      ]
    },
    {
      "cell_type": "code",
      "source": [
        ""
      ],
      "metadata": {
        "id": "zuiHyQDn8znV"
      },
      "execution_count": null,
      "outputs": []
    }
  ]
}